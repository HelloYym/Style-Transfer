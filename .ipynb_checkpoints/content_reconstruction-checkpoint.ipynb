{
 "cells": [
  {
   "cell_type": "code",
   "execution_count": 1,
   "metadata": {},
   "outputs": [],
   "source": [
    "%matplotlib inline\n",
    "import matplotlib as mpl\n",
    "mpl.rcParams['figure.dpi']= 150\n",
    "import matplotlib.pyplot as plt\n",
    "\n",
    "from mxnet import image\n",
    "content_img = image.imread('resources/content_1.jpg')\n",
    "\n",
    "from mxnet import nd\n",
    "\n",
    "rgb_mean = nd.array([0.485, 0.456, 0.406])\n",
    "rgb_std = nd.array([0.229, 0.224, 0.225])\n",
    "\n",
    "def preprocess(img, image_shape):\n",
    "    img = image.imresize(img, *image_shape)\n",
    "    img = (img.astype('float32')/255 - rgb_mean) / rgb_std\n",
    "    return img.transpose((2,0,1)).expand_dims(axis=0)\n",
    "\n",
    "def postprocess(img):\n",
    "    img = img[0].as_in_context(rgb_std.context)\n",
    "    return (img.transpose((1,2,0))*rgb_std + rgb_mean).clip(0,1)"
   ]
  },
  {
   "cell_type": "code",
   "execution_count": 3,
   "metadata": {},
   "outputs": [],
   "source": [
    "from mxnet.gluon.model_zoo import vision as models\n",
    "\n",
    "pretrained_net = models.vgg19(pretrained=True)\n",
    "# print(pretrained_net)\n",
    "content_layers = [12,]\n",
    "pooling_layers = [4,9,18,27,36]\n",
    "\n",
    "from mxnet.gluon import nn\n",
    "\n",
    "def get_net(pretrained_net, content_layers):\n",
    "    net = nn.Sequential()\n",
    "    for i in range(max(content_layers)+1):\n",
    "        if i in pooling_layers:\n",
    "            net.add(nn.MaxPool2D(pool_size=2, strides=2))\n",
    "        else:\n",
    "            net.add(pretrained_net.features[i])\n",
    "    return net\n",
    "\n",
    "net = get_net(pretrained_net, content_layers)"
   ]
  },
  {
   "cell_type": "code",
   "execution_count": 4,
   "metadata": {
    "collapsed": true
   },
   "outputs": [],
   "source": [
    "def extract_features(x, content_layers):\n",
    "    for i in range(len(net)):\n",
    "        x = net[i](x)\n",
    "        if i in content_layers:\n",
    "            return x\n",
    "\n",
    "def content_loss(yhat, y):\n",
    "    return nd.sum((yhat-y).square()) * 0.5\n",
    "\n",
    "def get_contents(image_shape):\n",
    "    content_x = preprocess(content_img, image_shape).copyto(ctx)\n",
    "    content_y = extract_features(content_x, content_layers)\n",
    "    return content_x, content_y"
   ]
  },
  {
   "cell_type": "code",
   "execution_count": null,
   "metadata": {
    "collapsed": true
   },
   "outputs": [],
   "source": [
    "from time import time\n",
    "from mxnet import autograd\n",
    "\n",
    "def train(params, max_epochs, lr, lr_decay_epoch=200):\n",
    "    tic = time()\n",
    "\n",
    "    trainer = gluon.Trainer(params, 'adam', {'learning_rate': lr})\n",
    "    \n",
    "    for i in range(max_epochs):\n",
    "        x = params.get('generated_image')\n",
    "        with autograd.record():\n",
    "            content_py = extract_features(x.data(), content_layers)            \n",
    "            content_L = content_loss(content_py, content_y)\n",
    "            \n",
    "#             tv_L = tv_loss(x.data())\n",
    "            loss = content_L\n",
    "            \n",
    "        loss.backward()\n",
    "        trainer.step(1)\n",
    "        \n",
    "        # add sync to avoid large mem usage\n",
    "        nd.waitall()\n",
    "\n",
    "        if i % 40 == 0:\n",
    "            print('batch %3d, style %.2f, time %.1f sec' % (\n",
    "                i, loss.asscalar(), time()-tic))\n",
    "            tic = time()\n",
    "\n",
    "        if i and i % lr_decay_epoch == 0:\n",
    "            lr *= 0.5\n",
    "            trainer.set_learning_rate(lr)\n",
    "            print('change lr to ', lr)        \n",
    "    \n",
    "    return params\n",
    "\n",
    "\n",
    "\n",
    "import utils\n",
    "import mxnet as mx\n",
    "from mxnet import gluon\n",
    "\n",
    "image_shape = (512,512)\n",
    "\n",
    "ctx = mx.gpu(0)\n",
    "net.collect_params().reset_ctx(ctx)\n",
    "\n",
    "content_x, content_y = get_contents(image_shape)\n",
    "\n",
    "x = mx.gluon.Parameter('generated_image', shape=(1, 3, 512, 512))\n",
    "x.initialize(mx.init.Xavier(), ctx=ctx)\n",
    "params = mx.gluon.ParameterDict()\n",
    "params.update({'generated_image':x})\n",
    "params.reset_ctx(ctx)\n",
    "\n",
    "# param_file = 'results/saved_style_conv3_param'\n",
    "# params.load(param_file, ctx=ctx)\n",
    "\n",
    "learnt_params = train(params, max_epochs=500, lr=1, lr_decay_epoch=100)\n",
    "learnt_params.save('results/saved_content_conv3_param')\n",
    "\n",
    "y = learnt_params.get('generated_image')\n",
    "\n",
    "plt.imshow(postprocess(y.data()).asnumpy())\n",
    "plt.show()"
   ]
  },
  {
   "cell_type": "code",
   "execution_count": null,
   "metadata": {
    "collapsed": true
   },
   "outputs": [],
   "source": []
  }
 ],
 "metadata": {
  "kernelspec": {
   "display_name": "Python 3",
   "language": "python",
   "name": "python3"
  },
  "language_info": {
   "codemirror_mode": {
    "name": "ipython",
    "version": 3
   },
   "file_extension": ".py",
   "mimetype": "text/x-python",
   "name": "python",
   "nbconvert_exporter": "python",
   "pygments_lexer": "ipython3",
   "version": "3.6.2"
  }
 },
 "nbformat": 4,
 "nbformat_minor": 2
}
